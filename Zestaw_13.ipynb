{
 "cells": [
  {
   "attachments": {},
   "cell_type": "markdown",
   "metadata": {},
   "source": [
    "ZADANIE 13.1\n",
    "Zbadać istnienie rozwiązań problemu drogi skoczka szachowego dla różnych rozmiarów planszy i różnych punktów startowych skoczka na szachownicy [plansza 6x6]."
   ]
  },
  {
   "cell_type": "code",
   "execution_count": null,
   "metadata": {},
   "outputs": [],
   "source": [
    "def knight_tour(board, row, col, move_count, moves):\n",
    "    # jeśli wszystkie pola odwiedzone\n",
    "    if move_count == len(board) * len(board[0]):\n",
    "        return moves\n",
    "    # sprawdza wszystkie dostępne ruchy\n",
    "    for row_offset, col_offset in [(2, 1), (1, 2), (-1, 2), (-2, 1), (-2, -1), (-1, -2), (1, -2), (2, -1)]:\n",
    "        new_row, new_col = row + row_offset, col + col_offset\n",
    "        if 0 <= new_row < len(board) and 0 <= new_col < len(board[0]) and board[new_row][new_col] == 0:\n",
    "            board[new_row][new_col] = move_count\n",
    "            moves.append((new_row, new_col))\n",
    "            result = knight_tour(board, new_row, new_col, move_count + 1, moves)\n",
    "            if result:\n",
    "                return result\n",
    "            board[new_row][new_col] = 0\n",
    "            moves.pop()\n",
    "    return None\n",
    "\n",
    "board = [[0 for _ in range(6)] for _ in range(6)]\n",
    "# punkt startowy (0,0)\n",
    "start_row, start_col = 0 , 0\n",
    "board[start_row][start_col] = 1\n",
    "moves = [(start_row, start_col)]\n",
    "result = knight_tour(board, start_row, start_col, 2, moves)\n",
    "if result:\n",
    "    print(\"Znaleziono rozwiązanie:\\n\", result)\n",
    "else:\n",
    "    print(\"Nie znaleziono rozwiązania.\")"
   ]
  }
 ],
 "metadata": {
  "language_info": {
   "name": "python"
  },
  "orig_nbformat": 4
 },
 "nbformat": 4,
 "nbformat_minor": 2
}
