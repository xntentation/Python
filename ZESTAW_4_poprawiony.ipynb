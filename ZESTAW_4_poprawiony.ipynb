{
 "cells": [
  {
   "attachments": {},
   "cell_type": "markdown",
   "metadata": {},
   "source": [
    "Zadanie 4.2 \n",
    "Rozwiązania zadań 3.5 i 3.6 z poprzedniego zestawu zapisać w postaci funkcji, które zwracają pełny string przez return. Funkcje nie powinny pytać użytkownika o dane, tylko korzystać z argumentów"
   ]
  },
  {
   "cell_type": "code",
   "execution_count": null,
   "metadata": {},
   "outputs": [],
   "source": [
    "def make_ruler(n):\n",
    "    wyjscie = \"\"\n",
    "    val = \"|\"\n",
    "    while True:\n",
    "        val = str(val) + (\"....|\")*(n-1)\n",
    "        wyjscie += val\n",
    "        break\n",
    "    \n",
    "    wyjscie += \"\\n\"\n",
    "    \n",
    "    for x in range(n):\n",
    "        x = str(x) + \"    \"\n",
    "        wyjscie += x\n",
    "    return wyjscie\n",
    "\n",
    "def make_grid(rows, cols):\n",
    "    wyjscie = \"\"\n",
    "    for r in range(2*rows+1):\n",
    "        for c in range(cols):\n",
    "            if(r % 2 == 0):\n",
    "                wyjscie += \"+---\"\n",
    "            else:\n",
    "                wyjscie += \"|   \"\n",
    "        \n",
    "        if(r % 2 == 0):\n",
    "            wyjscie += \"+\\n\"\n",
    "        else:\n",
    "            wyjscie += \"|\\n\"\n",
    "    \n",
    "    return wyjscie\n",
    "\n",
    "w = make_ruler(10)\n",
    "print(w)\n",
    "w = make_grid(3, 6)\n",
    "print(w)"
   ]
  },
  {
   "attachments": {},
   "cell_type": "markdown",
   "metadata": {},
   "source": [
    "Zadanie 4.3 \n",
    "Napisać iteracyjną wersję funkcji factorial(n) obliczającej silnię."
   ]
  },
  {
   "cell_type": "code",
   "execution_count": null,
   "metadata": {},
   "outputs": [],
   "source": [
    "def factorial(n):\n",
    "    silnia = 1\n",
    "    if(n > 1):\n",
    "        for i in range(1,n+1):\n",
    "            silnia = silnia * i\n",
    "    return silnia"
   ]
  },
  {
   "attachments": {},
   "cell_type": "markdown",
   "metadata": {},
   "source": [
    "Zadanie 4.4 \n",
    "Napisać iteracyjną wersję funkcji fibonacci(n) obliczającej n-ty wyraz ciągu Fibonacciego."
   ]
  },
  {
   "cell_type": "code",
   "execution_count": null,
   "metadata": {},
   "outputs": [],
   "source": [
    "def fibonacci(n):\n",
    "    a, b = 0, 1\n",
    "    for i in range(n):\n",
    "        a, b = b, a + b\n",
    "    return a"
   ]
  },
  {
   "attachments": {},
   "cell_type": "markdown",
   "metadata": {},
   "source": [
    "Zadanie 4.5 \n",
    "Napisać funkcję odwracanie(L, left, right) odwracającą kolejność elementów na liście od numeru left do right włącznie. Lista jest modyfikowana w miejscu (in place). Rozważyć wersję iteracyjną i rekurencyjną."
   ]
  },
  {
   "cell_type": "code",
   "execution_count": null,
   "metadata": {},
   "outputs": [],
   "source": [
    "def odwracanie(L, left, right):\n",
    "    left += len(L) if left < 0 else 0\n",
    "    right += len(L) if right < 0 else 0\n",
    "    while left < right :\n",
    "        L[left], L[right] = L[right], L[left]\n",
    "        left = left + 1\n",
    "        right = right - 1\n",
    "print(odwracanie(3,4))"
   ]
  },
  {
   "attachments": {},
   "cell_type": "markdown",
   "metadata": {},
   "source": [
    "Zadanie 4.6 \n",
    "Napisać funkcję sum_seq(sequence) obliczającą sumę liczb zawartych w sekwencji, która może zawierać zagnieżdżone podsekwencje. Wskazówka: rozważyć wersję rekurencyjną, a sprawdzanie, czy element jest sekwencją, wykonać przez isinstance(item, (list, tuple))."
   ]
  },
  {
   "cell_type": "code",
   "execution_count": null,
   "metadata": {},
   "outputs": [],
   "source": [
    "def sum_seq(sequence):\n",
    "    result = 0 \n",
    "    for item in sequence:\n",
    "        if insistance(item, (list, tuple)):\n",
    "            result += sum_seq(item)\n",
    "        else:\n",
    "            result += item\n",
    "    return result"
   ]
  },
  {
   "attachments": {},
   "cell_type": "markdown",
   "metadata": {},
   "source": [
    "Zadanie 4.7 \n",
    "Mamy daną sekwencję, w której niektóre z elementów mogą okazać się podsekwencjami, a takie zagnieżdżenia mogą się nakładać do nieograniczonej głębokości. Napisać funkcję flatten(sequence), która zwróci spłaszczoną listę wszystkich elementów sekwencji. Wskazówka: rozważyć wersję rekurencyjną, a sprawdzanie czy element jest sekwencją, wykonać przez isinstance(item, (list, tuple)).\n",
    "\n",
    "seq = [1,(2,3),[],[4,(5,6,7)],8,[9]] print(flatten(seq)) # [1,2,3,4,5,6,7,8,9]"
   ]
  },
  {
   "cell_type": "code",
   "execution_count": null,
   "metadata": {},
   "outputs": [],
   "source": [
    "def flatten(seq):\n",
    "    L = []\n",
    "    for el in seq:\n",
    "        if(isinstance(el, (list, tuple))):\n",
    "            L.extend(flatten(el))\n",
    "        else:\n",
    "            L.append(el)\n",
    "    return L\n",
    "\n",
    "seq = [1,(2,3),[],[4,(5,6,7)],8,[9]]\n",
    "print(flatten(seq))   # [1,2,3,4,5,6,7,8,9]"
   ]
  }
 ],
 "metadata": {
  "kernelspec": {
   "display_name": "Python 3",
   "language": "python",
   "name": "python3"
  },
  "language_info": {
   "name": "python",
   "version": "3.10.0 (tags/v3.10.0:b494f59, Oct  4 2021, 19:00:18) [MSC v.1929 64 bit (AMD64)]"
  },
  "orig_nbformat": 4,
  "vscode": {
   "interpreter": {
    "hash": "71e819a8eb91f58673ea4aef1be531c17af1dbfdcfa3f459f4e86f20709e9820"
   }
  }
 },
 "nbformat": 4,
 "nbformat_minor": 2
}
