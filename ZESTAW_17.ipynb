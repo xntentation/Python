{
 "cells": [
  {
   "attachments": {},
   "cell_type": "markdown",
   "metadata": {},
   "source": [
    "ZADANIE 17.1 (WYSZUKIWANIE LINIOWE)\n",
    "Napisać program, który na listę L wstawi n liczb wylosowanych z zakresu od 0 do k-1. Następnie program wylosuje liczbę y z tego samego zakresu i znajdzie wszystkie jej wystąpienia na liście L przy pomocy wyszukiwania liniowego. [n=100, k=10]"
   ]
  },
  {
   "cell_type": "code",
   "execution_count": null,
   "metadata": {},
   "outputs": [],
   "source": [
    "import random\n",
    "\n",
    "n = 100\n",
    "k = 10\n",
    "L = [random.randint(0, k-1) for _ in range(n)]\n",
    "y = random.randint(0, k-1)\n",
    "\n",
    "occurrences = []\n",
    "for i, x in enumerate(L):\n",
    "    if x == y:\n",
    "        occurrences.append(i)\n",
    "\n",
    "print(occurrences)"
   ]
  },
  {
   "attachments": {},
   "cell_type": "markdown",
   "metadata": {},
   "source": [
    "ZADANIE 17.3 (MEDIANA)\n",
    "Zaimplementować prostą metodę znajdowania mediany polegającą na posortowaniu zbioru i wybraniu elementu środkowego."
   ]
  },
  {
   "cell_type": "code",
   "execution_count": null,
   "metadata": {},
   "outputs": [],
   "source": [
    "def mediana_sort(L, left, right):\n",
    "    L[left:right+1] = sorted(L[left:right+1])\n",
    "    if (right-left+1) % 2 == 0:\n",
    "        return (L[(right+left)//2] + L[(right+left)//2 - 1]) / 2\n",
    "    else:\n",
    "        return L[(right+left)//2]\n",
    "\n",
    "L = [8,7,6,5,4,3,2,1]\n",
    "print(mediana_sort(L, L[0], L[-1]))"
   ]
  }
 ],
 "metadata": {
  "kernelspec": {
   "display_name": "Python 3",
   "language": "python",
   "name": "python3"
  },
  "language_info": {
   "name": "python",
   "version": "3.10.0 (tags/v3.10.0:b494f59, Oct  4 2021, 19:00:18) [MSC v.1929 64 bit (AMD64)]"
  },
  "orig_nbformat": 4,
  "vscode": {
   "interpreter": {
    "hash": "71e819a8eb91f58673ea4aef1be531c17af1dbfdcfa3f459f4e86f20709e9820"
   }
  }
 },
 "nbformat": 4,
 "nbformat_minor": 2
}
